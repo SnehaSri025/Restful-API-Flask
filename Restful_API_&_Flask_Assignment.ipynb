{
  "nbformat": 4,
  "nbformat_minor": 0,
  "metadata": {
    "colab": {
      "provenance": []
    },
    "kernelspec": {
      "name": "python3",
      "display_name": "Python 3"
    },
    "language_info": {
      "name": "python"
    }
  },
  "cells": [
    {
      "cell_type": "markdown",
      "source": [
        "1.What is a RESTful API?\n",
        "- A RESTful API (Representational State Transfer) is an architectural style for designing networked applications. It's a set of principles and constraints for creating web services that allow different systems to communicate with each other over the internet.\n",
        "2.Explain the concept of API specification?\n",
        "- An API specification is a document or set of documents that precisely describes how an API works. It defines the endpoints, operations, parameters, request and response formats, authentication methods, and other details necessary for developers to understand and use the API.\n",
        "\n",
        "Think of it as a contract between the API provider and the API consumer. It ensures that both sides have a clear understanding of how they should interact with each other.\n",
        "3.What is flask,and why is it popular for buliding APIs?\n",
        "- Flask is a micro web framework written in Python. It is called a \"micro\" framework because it is very lightweight and does not include many built-in features like an ORM (Object-Relational Mapper) or form validation. Instead, it provides the core functionalities needed to build web applications and APIs, and allows developers to choose and integrate extensions or libraries for additional features as needed.\n",
        "4.What is routing in flask?\n",
        "- In Flask, routing is the process of determining which function should handle a request for a specific URL. When a client sends an HTTP request to your Flask application, Flask needs to know which part of your code should process that request based on the URL path. This is where routing comes in.\n",
        "\n",
        "Flask uses \"routes\" to map URL paths to specific Python functions (often called \"view functions\"). When a request arrives, Flask matches the requested URL against the defined routes and executes the corresponding function.\n",
        "5.How do you create a simple flask application?\n",
        "- Creating a simple Flask application is straightforward. Here are the basic steps:\n",
        "\n",
        "1. Install Flask:\n",
        "2. Create a Python File:\n",
        "3. Write the Flask Code:\n",
        "6.What are HTTP methods used in RESTful APIS?\n",
        "- In RESTful APIs, HTTP methods (also known as HTTP verbs) are used to indicate the desired action to be performed on a resource. These methods correspond to common operations you might want to perform on data or resources.\n",
        "7.What is the purpose of the @app.route()decorator in flask?\n",
        "- In Flask, the @app.route() decorator is a fundamental tool used for routing. Its primary purpose is to associate a URL path with a Python function (a view function).\n",
        "In essence, the @app.route() decorator is the mechanism that connects incoming HTTP requests to the Python code that should handle them in a Flask Gapplication. It's a core component of Flask's routing system and is essential for building web applications and APIs.\n",
        "8.What is the difference between GET and POST HTTP methods?\n",
        "- GET Method:\n",
        "\n",
        "Purpose: Used to retrieve information from the server using a given URI [1]. It's primarily used for fetching data and should not be used for operations that change the state of the server.\n",
        "Data Handling: Data is sent in the URL as query parameters. These parameters are visible in the URL and in browser history.\n",
        "Safety and Idempotence: GET requests are considered safe (they don't change the server's state) and idempotent (making the same request multiple times has the same effect as making it once).\n",
        "Caching: GET requests can be cached by browsers and intermediaries, which can improve performance.\n",
        "Body: GET requests typically do not have a request body.\n",
        "Restrictions: There are restrictions on the amount of data that can be sent in the URL due to browser and server limitations.\n",
        "Examples: Retrieving a web page, fetching a list of products, searching for information, viewing a user's profile.\n",
        "POST Method:\n",
        "\n",
        "Purpose: Used to send data to the server for processing [1]. This often results in a change in state on the server or side effects. POST is typically used for creating or updating resources.\n",
        "Data Handling: Data is sent in the request body. This data is not visible in the URL or browser history.\n",
        "Safety and Idempotence: POST requests are generally not safe (they can change the server's state) and not idempotent (making the same request multiple times can have different effects).\n",
        "Caching: POST requests are generally not cached.\n",
        "Body: POST requests typically have a request body that contains the data being sent to the server.\n",
        "Restrictions: There are no significant restrictions on the amount of data that can be sent in the request body.\n",
        "Examples: Submitting a form (e.g., registration, login, contact form), uploading a file, adding a new item to a database, making a purchase.\n",
        "9.How do you handle errors in FLASK APIs?\n",
        "- Handling errors effectively in Flask APIs is crucial for providing a good user experience and for debugging. Flask provides several ways to handle errors, from simple custom error pages to more sophisticated error handling using error handlers and extensions.\n",
        "10.How do you connect flask to a SQL database?\n",
        "- Connecting Flask to a SQL database typically involves using a database connector library and optionally an Object-Relational Mapper (ORM). Flask itself doesn't have built-in database support, so you'll need to integrate with external libraries.\n",
        "\n",
        "11.What is the role of flask-SQLAIchemy?\n",
        "-Flask-SQLAlchemy is a Flask extension that provides Object-Relational Mapping (ORM) capabilities by integrating Flask with the SQLAlchemy library. Its primary role is to simplify and streamline database interactions within Flask applications.\n",
        "\n",
        " key roles:\n",
        "\n",
        "ORM Integration: Flask-SQLAlchemy acts as a bridge between your Flask application and SQLAlchemy. It provides a convenient way to use SQLAlchemy's powerful ORM features within the Flask environment. This means you can work with database tables as Python classes (models) and interact with data using Python objects and methods, rather than writing raw SQL queries.\n",
        "\n",
        "Simplified Configuration: It simplifies the configuration of SQLAlchemy for your Flask application. You configure database connections and other SQLAlchemy settings through Flask's configuration system (app.config), making it easy to manage database settings within your Flask project.\n",
        "\n",
        "Database Session Management: Flask-SQLAlchemy automatically manages the database session for you. It provides a db.session object that you can use to add, query, update, and delete data in your database. The session is typically managed within the context of a request, ensuring that database operations are handled correctly.\n",
        "\n",
        "Model Definition: It provides a db.Model base class that you inherit from to define your database models. This simplifies the process of defining the structure of your database tables, including column types, constraints, and relationships.\n",
        "12.What are flask blueprints, and how are they useful?\n",
        "- Flask Blueprints are a mechanism for organizing and structuring Flask applications into smaller, reusable components. They allow you to factor an application into a set of blueprints, each of which can define its own routes, templates, static files, and other application resources [1].\n",
        "\n",
        "Think of a blueprint as a miniature Flask application that can be registered with a larger Flask application. This is particularly useful as your application grows in complexity and you want to modularize your code.\n",
        "13.What is the purpose of flask's request object?\n",
        "- Its purpose is to provide access to:\n",
        "\n",
        "Request Data: Access data sent in the request, such as form data, JSON data, query parameters from the URL, and file uploads.\n",
        "Request Headers: Access information from the request headers, like the User-Agent (browser information), Referer, Content-Type, etc.\n",
        "Request Method: Determine the HTTP method used for the request (GET, POST, PUT, DELETE, etc.).\n",
        "URL and Path: Get the requested URL path and other URL components.\n",
        "Cookies: Access cookies sent with the request.\n",
        "14.How do you create a RESTful API endpoint using flask?\n",
        "- Based on the information in the provided text, creating a simple RESTful API endpoint using Flask involves these steps:\n",
        "\n",
        "Install Flask: Ensure you have Flask installed in your environment. The provided text suggests using pip install Flask.\n",
        "Create a Python File: Create a Python script for your application (e.g., index.py).\n",
        "Write the Flask Code:\n",
        "Import the Flask class.\n",
        "Create an instance of the Flask class.\n",
        "Use the @app.route() decorator to define a route for your endpoint and associate it with a Python function.\n",
        "The function should return the data that the API endpoint will provide.\n",
        "15.What is the purpose of flask's jsonify() function?\n",
        "- Based on the provided text, the purpose of Flask's jsonify() function is not explicitly mentioned. However, in the context of building RESTful APIs with Flask, jsonify() is a utility function that is commonly used.\n",
        "\n",
        "The purpose of Flask's jsonify() function is to serialize data (like Python dictionaries or lists) into a JSON formatted response and set the appropriate content type header to 'application/json'.\n",
        "\n",
        "When you are building a RESTful API, the standard format for exchanging data between the client and the server is JSON (JavaScript Object Notation). While you can manually convert Python data structures to JSON strings and set the header, jsonify() simplifies this process.\n",
        "16.Explain flask's url_for() function.\n",
        "- Based on the provided text, the purpose of Flask's url_for() function is not explicitly described. However, in the context of Flask web development, the url_for() function is a crucial utility for building URLs dynamically.\n",
        "\n",
        "The purpose of Flask's url_for() function is to generate a URL for a specific function (or endpoint) in your Flask application based on its name.\n",
        "17.How does flask handle static files (CSS, JavaScript, etc.)?\n",
        "- Flask generally handles static files:\n",
        "\n",
        "Static Folder: By default, Flask looks for static files in a folder named static within your application's root directory.\n",
        "URL Endpoint: Flask provides a built-in endpoint for serving files from this static folder.\n",
        "Generating URLs: You can use the url_for() function (with static as the endpoint name) to generate URLs for your static files.\n",
        "18.What is an API specification, and how does it help in buliding a flask API?\n",
        "- An API specification is a document or set of documents that precisely describes how an API works.\n",
        "It defines the endpoints, operations, parameters, request and response formats, authentication methods, and other details necessary for developers to understand and use the API.\n",
        "Think of it as a contract between the API provider and the API consumer. It ensures that both sides have a clear understanding of how they should interact with each other.\n",
        "How does it help in building a Flask API?\n",
        "\n",
        "While the provided text doesn't explicitly state how it helps in building a Flask API, we can infer the benefits based on the definition:\n",
        "\n",
        "Clear Understanding: The specification provides a clear and detailed description of the API, which helps the developer building the Flask API to understand what needs to be implemented.\n",
        "Guide for Implementation: It acts as a guide for implementing the API endpoints, defining the expected input (parameters, request body), the logic to be performed, and the expected output (response format and status codes).\n",
        "Facilitates Collaboration: If multiple developers are working on the Flask API, the specification ensures that everyone is on the same page regarding the API's design and functionality.\n",
        "19.What are HTTP status codes, and why are they important in a flask API?\n",
        "- HTTP status codes are three-digit numbers that are part of the response from a server when a client (like a web browser or API consumer) makes an HTTP request. They indicate the outcome of the request. Each code falls into one of five classes, indicating the general type of response:\n",
        "\n",
        "1xx Informational: The request was received, continuing process.\n",
        "2xx Success: The request was successfully received, understood, and accepted.\n",
        "3xx Redirection: Further action needs to be taken in order to complete the request.\n",
        "4xx Client Error: The request contains bad syntax or cannot be fulfilled.\n",
        "5xx Server Error: The server failed to fulfill an apparently valid request.\n",
        "20.How do you handle POST requests in flask?\n",
        "- To handle POST requests in Flask, you typically:\n",
        "\n",
        "Import the request object: You need the request object from Flask to access the data sent in the POST request body.\n",
        "Specify the method in the route decorator: In the @app.route() decorator, you need to explicitly specify that the route should handle POST requests using the methods parameter.\n",
        "Access data from the request object: Inside the view function associated with the route, you access the data from the POST request using attributes of the request object, such as request.form for form data, request.json for JSON data, or request.data for raw data.\n",
        "21.How would you secure a flask API?\n",
        "- By implementing these security measures, you can significantly improve the security posture of your Flask API and protect it from various threats. The specific security measures you need to implement will depend on the nature of your API and the sensitivity of the data it handles.\n",
        "22.What is the significance of thr flask-RESTful extension?\n",
        "- The significance of the Flask-RESTful extension is not explicitly mentioned. However, Flask-RESTful is a popular Flask extension specifically designed to help developers build RESTful APIs quickly and easily.\n",
        "\n",
        "The significance of the Flask-RESTful extension lies in its ability to simplify the process of creating RESTful APIs in Flask by providing abstractions and conventions for handling common API tasks.\n",
        "23.What is the role of flask's session object?\n",
        "- The role of Flask's session object is not explicitly mentioned. However, in Flask and web applications in general, the session object plays a crucial role in managing user-specific data across multiple requests.\n",
        "\n",
        "Based on external knowledge and the provided text snippet [1] mentioning storing information specific to a user for the duration of a session:\n",
        "\n",
        "The role of Flask's session object is to store information specific to a user for the duration of their session.\n",
        "\n"
      ],
      "metadata": {
        "id": "iGPWbJY7015l"
      }
    },
    {
      "cell_type": "code",
      "source": [
        "#.How do you create a basic flask applications?\n",
        "from flask import Flask\n",
        "\n",
        "app = Flask(__name__)\n",
        "\n",
        "@app.route(\"/\")\n",
        "def hello_world():\n",
        "    return \"<p>Hello, World!</p>\""
      ],
      "metadata": {
        "id": "kAVwfAA8TXtC"
      },
      "execution_count": null,
      "outputs": []
    },
    {
      "cell_type": "code",
      "source": [
        "#.How do you serve static files like images or CSS in flask?\n",
        "from flask import Flask, send_from_directory\n",
        "\n",
        "app = Flask(__name__)\n",
        "\n",
        "@app.route('/static/<path:filename>')\n",
        "def serve_static(filename):\n",
        "    return send_from_directory('static', filename)\n"
      ],
      "metadata": {
        "id": "gQVvsCZzTt81"
      },
      "execution_count": null,
      "outputs": []
    },
    {
      "cell_type": "code",
      "source": [
        "#.How do you define different routes with different HTTP methods in flask?\n",
        "from flask import Flask, request, jsonify\n",
        "\n",
        "app = Flask(__name__)\n",
        "\n",
        "@app.route('/data', methods=['GET'])\n",
        "def get_data():\n",
        "    # This function will only handle GET requests to /data\n",
        "    return jsonify({\"message\": \"This is data accessed with GET\"})\n",
        "\n",
        "@app.route('/data', methods=['POST'])\n",
        "def post_data():\n",
        "    # This function will only handle POST requests to /data\n",
        "    if request.is_json:\n",
        "        received_data = request.json\n",
        "        return jsonify({\"message\": \"Data received with POST\", \"data\": received_data}), 201\n",
        "    else:\n",
        "        return jsonify({\"error\": \"Request must be JSON\"}), 415\n"
      ],
      "metadata": {
        "id": "A-2B_T-UUgg0"
      },
      "execution_count": null,
      "outputs": []
    },
    {
      "cell_type": "code",
      "source": [
        "#. How do you render HTML templates in flask?\n",
        "from flask import Flask, render_template\n",
        "\n",
        "app = Flask(__name__)\n",
        "\n",
        "@app.route('/')\n",
        "def index():\n",
        "    # Render the index.html template\n",
        "    return render_template('index.html')\n",
        "\n",
        "@app.route('/greet/<name>')\n",
        "def greet(name):\n",
        "    # Render the greet.html template and pass a variable to it\n",
        "    return render_template('greet.html', user_name=name)\n",
        "\n",
        "if __name__ == '__main__':\n",
        "    app.run(debug=True)"
      ],
      "metadata": {
        "colab": {
          "base_uri": "https://localhost:8080/"
        },
        "id": "m4JY6VP6U-PI",
        "outputId": "f12f9aa8-1784-42dd-bd2d-26a26f823626"
      },
      "execution_count": null,
      "outputs": [
        {
          "output_type": "stream",
          "name": "stdout",
          "text": [
            " * Serving Flask app '__main__'\n",
            " * Debug mode: on\n"
          ]
        },
        {
          "output_type": "stream",
          "name": "stderr",
          "text": [
            "INFO:werkzeug:\u001b[31m\u001b[1mWARNING: This is a development server. Do not use it in a production deployment. Use a production WSGI server instead.\u001b[0m\n",
            " * Running on http://127.0.0.1:5000\n",
            "INFO:werkzeug:\u001b[33mPress CTRL+C to quit\u001b[0m\n",
            "INFO:werkzeug: * Restarting with stat\n"
          ]
        }
      ]
    },
    {
      "cell_type": "code",
      "source": [
        "#. How can you generate URLs for routes in flask using url_for?\n",
        "from flask import Flask, url_for\n",
        "\n",
        "app = Flask(__name__)\n",
        "\n",
        "@app.route('/')\n",
        "def index():\n",
        "    # Generate the URL for the 'index' route\n",
        "    url = url_for('index')"
      ],
      "metadata": {
        "id": "x3u05P4fVSVo"
      },
      "execution_count": null,
      "outputs": []
    },
    {
      "cell_type": "code",
      "source": [
        "\n",
        "# How do you handle forms in flask?\n",
        "from flask import Flask, render_template, request\n",
        "\n",
        "app = Flask(__name__)\n",
        "\n",
        "@app.route('/')\n",
        "def index():\n",
        "    return render_template('form.html')\n",
        "\n",
        "@app.route('/submit', methods=['POST'])\n",
        "def submit(): # Add the function definition here\n",
        "    pass # Correctly indent the pass statement\n"
      ],
      "metadata": {
        "id": "Na9yhij2VvaQ"
      },
      "execution_count": null,
      "outputs": []
    },
    {
      "cell_type": "code",
      "source": [
        "#.How can you validate forms in flask?\n",
        "from flask_wtf import FlaskForm\n",
        "from wtforms import StringField, IntegerField, SubmitField\n",
        "from wtforms.validators import DataRequired, Length, NumberRange\n",
        "\n",
        "class MyValidationForm(FlaskForm):\n",
        "    username = StringField('Username', validators=[DataRequired(), Length(min=4, max=20)])\n",
        "    age = IntegerField('Age', validators=[DataRequired(), NumberRange(min=18, max=120)])\n",
        "    submit = SubmitField('Submit')\n"
      ],
      "metadata": {
        "colab": {
          "base_uri": "https://localhost:8080/",
          "height": 383
        },
        "id": "OAF9ptvFWPh7",
        "outputId": "54e92a81-eb59-4204-d436-c1d11cccfdbb"
      },
      "execution_count": null,
      "outputs": [
        {
          "output_type": "error",
          "ename": "ModuleNotFoundError",
          "evalue": "No module named 'flask_wtf'",
          "traceback": [
            "\u001b[0;31m---------------------------------------------------------------------------\u001b[0m",
            "\u001b[0;31mModuleNotFoundError\u001b[0m                       Traceback (most recent call last)",
            "\u001b[0;32m<ipython-input-28-92327f57cc0f>\u001b[0m in \u001b[0;36m<cell line: 0>\u001b[0;34m()\u001b[0m\n\u001b[1;32m      1\u001b[0m \u001b[0;31m#.How can you validate forms in flask?\u001b[0m\u001b[0;34m\u001b[0m\u001b[0;34m\u001b[0m\u001b[0m\n\u001b[0;32m----> 2\u001b[0;31m \u001b[0;32mfrom\u001b[0m \u001b[0mflask_wtf\u001b[0m \u001b[0;32mimport\u001b[0m \u001b[0mFlaskForm\u001b[0m\u001b[0;34m\u001b[0m\u001b[0;34m\u001b[0m\u001b[0m\n\u001b[0m\u001b[1;32m      3\u001b[0m \u001b[0;32mfrom\u001b[0m \u001b[0mwtforms\u001b[0m \u001b[0;32mimport\u001b[0m \u001b[0mStringField\u001b[0m\u001b[0;34m,\u001b[0m \u001b[0mIntegerField\u001b[0m\u001b[0;34m,\u001b[0m \u001b[0mSubmitField\u001b[0m\u001b[0;34m\u001b[0m\u001b[0;34m\u001b[0m\u001b[0m\n\u001b[1;32m      4\u001b[0m \u001b[0;32mfrom\u001b[0m \u001b[0mwtforms\u001b[0m\u001b[0;34m.\u001b[0m\u001b[0mvalidators\u001b[0m \u001b[0;32mimport\u001b[0m \u001b[0mDataRequired\u001b[0m\u001b[0;34m,\u001b[0m \u001b[0mLength\u001b[0m\u001b[0;34m,\u001b[0m \u001b[0mNumberRange\u001b[0m\u001b[0;34m\u001b[0m\u001b[0;34m\u001b[0m\u001b[0m\n\u001b[1;32m      5\u001b[0m \u001b[0;34m\u001b[0m\u001b[0m\n",
            "\u001b[0;31mModuleNotFoundError\u001b[0m: No module named 'flask_wtf'",
            "",
            "\u001b[0;31m---------------------------------------------------------------------------\u001b[0;32m\nNOTE: If your import is failing due to a missing package, you can\nmanually install dependencies using either !pip or !apt.\n\nTo view examples of installing some common dependencies, click the\n\"Open Examples\" button below.\n\u001b[0;31m---------------------------------------------------------------------------\u001b[0m\n"
          ],
          "errorDetails": {
            "actions": [
              {
                "action": "open_url",
                "actionText": "Open Examples",
                "url": "/notebooks/snippets/importing_libraries.ipynb"
              }
            ]
          }
        }
      ]
    },
    {
      "cell_type": "code",
      "source": [
        "#.How do you manage sessions in flask?\n",
        "from flask import Flask, session, redirect, url_for, request\n",
        "\n",
        "app = Flask(__name__)\n",
        "app.config['SECRET_KEY'] = 'your_highly_secret_and_unique_key'\n",
        "\n",
        "@app.route('/')\n",
        "def index():\n",
        "    if 'username' in session:\n",
        "        return f'Logged in as {session[\"username\"]}'\n",
        "    return 'You are not logged in'\n",
        "\n",
        "@app.route('/login', methods=['GET', 'POST'])\n",
        "def login():\n",
        "    if request.method == 'POST':\n",
        "        username = request.form['username']\n",
        "        session['username'] = username\n",
        "        return redirect(url_for('index'))\n",
        "    return '''\n",
        "        <form method=\"post\">\n",
        "            <p><input type=text name=username>\n",
        "            <p><input type=submit value=Login>\n",
        "        </form>\n",
        "    '''\n",
        "\n",
        "@app.route('/logout')\n",
        "def logout():\n",
        "    # remove the username from the session if it's there\n",
        "    session.pop('username', None)\n",
        "    return redirect(url_for('index'))\n",
        "\n",
        "if __name__ == '__main__':\n",
        "    app.run(debug=True)"
      ],
      "metadata": {
        "id": "nlrR6WVwXkc-"
      },
      "execution_count": null,
      "outputs": []
    },
    {
      "cell_type": "code",
      "source": [
        "#.How do you redirect to a different route in flask?\n",
        "from flask import Flask, redirect, url_for\n",
        "\n",
        "app = Flask(__name__)\n",
        "\n",
        "@app.route('/old_route')\n",
        "def old_route():\n",
        "    # This route will redirect to the 'new_route'\n",
        "    return redirect(url_for('new_route'))\n",
        "\n",
        "@app.route('/new_route')\n",
        "def new_route():\n",
        "    return \"This is the new route!\"\n",
        "\n",
        "if __name__ == '__main__':\n",
        "    app.run(debug=True)"
      ],
      "metadata": {
        "colab": {
          "base_uri": "https://localhost:8080/"
        },
        "id": "y_tPa4jbYcYZ",
        "outputId": "3c542968-6316-42ae-87e0-695dcb5f4a66"
      },
      "execution_count": null,
      "outputs": [
        {
          "metadata": {
            "tags": null
          },
          "name": "stdout",
          "output_type": "stream",
          "text": [
            " * Serving Flask app '__main__'\n",
            " * Debug mode: on\n"
          ]
        },
        {
          "metadata": {
            "tags": null
          },
          "name": "stderr",
          "output_type": "stream",
          "text": [
            "INFO:werkzeug:\u001b[31m\u001b[1mWARNING: This is a development server. Do not use it in a production deployment. Use a production WSGI server instead.\u001b[0m\n",
            " * Running on http://127.0.0.1:5000\n",
            "INFO:werkzeug:\u001b[33mPress CTRL+C to quit\u001b[0m\n",
            "INFO:werkzeug: * Restarting with stat\n"
          ]
        }
      ]
    },
    {
      "cell_type": "code",
      "source": [
        "#.How do you structure a flask app using blueprints?\n",
        "from flask import Flask\n",
        "\n",
        "# Import our blueprints\n",
        "from auth.auth import auth_bp\n",
        "from main.main import main_bp\n",
        "\n",
        "app = Flask(__name__)\n",
        "app.config['SECRET_KEY'] = 'your_secret_key' # Needed for sessions and other security features\n",
        "\n",
        "# Register the blueprints\n",
        "app.register_blueprint(auth_bp, url_prefix='/auth') # Register auth blueprint with a URL prefix\n",
        "app.register_blueprint(main_bp) # Register main blueprint without a URL prefix\n",
        "\n",
        "if __name__ == '__main__':\n",
        "    app.run(debug=True)"
      ],
      "metadata": {
        "id": "hQ8j9yLKda_T"
      },
      "execution_count": null,
      "outputs": []
    },
    {
      "cell_type": "code",
      "source": [
        "#.How do you define a custom jinja filter in flask?\n",
        "from flask import Flask, render_template\n",
        "\n",
        "app = Flask(__name__)\n",
        "\n",
        "# Define a custom filter using the decorator\n",
        "@app.template_filter('reverse_string') # 'reverse_string' is the name you'll use in the template\n",
        "def reverse_string_filter(s):\n",
        "    \"\"\"Reverses a string.\"\"\"\n",
        "    return s[::-1]"
      ],
      "metadata": {
        "id": "7aYr8jH9dxeO"
      },
      "execution_count": null,
      "outputs": []
    },
    {
      "cell_type": "code",
      "source": [
        "#.How do you return JSON responses in flask?\n",
        "from flask import Flask, jsonify\n",
        "\n",
        "app = Flask(__name__)\n",
        "\n",
        "@app.route('/api/data')\n",
        "def get_api_data():\n",
        "    # Sample data (a Python dictionary)\n",
        "    data = {\n",
        "        \"name\": \"Flask API\",\n",
        "        \"version\": \"1.0\",\n",
        "        \"status\": \"active\",\n",
        "        \"users\": [\n",
        "            {\"id\": 1, \"username\": \"alice\"},\n",
        "            {\"id\": 2, \"username\": \"bob\"}\n",
        "        ]\n",
        "    }\n",
        "\n",
        "    # Return the data as a JSON response\n",
        "    return jsonify(data)\n",
        "\n",
        "@app.route('/api/error')\n",
        "def get_api_error():\n",
        "    # You can also return JSON for error responses\n",
        "    error_response = {\n",
        "        \"error\": \"Resource not found\",\n",
        "        \"code\": 404\n",
        "    }\n",
        "    # Return JSON with a specific status code\n",
        "    return jsonify(error_response), 404\n",
        "\n",
        "if __name__ == '__main__':\n",
        "    app.run(debug=True)"
      ],
      "metadata": {
        "id": "gZPbioiheHJw"
      },
      "execution_count": null,
      "outputs": []
    },
    {
      "cell_type": "code",
      "source": [
        "#.How do you capture URL parameters in flask?\n",
        "from flask import Flask\n",
        "\n",
        "app = Flask(__name__)\n",
        "\n",
        "# Define a route with a simple string parameter\n",
        "@app.route('/user/<username>')\n",
        "def show_user_profile(username):\n",
        "    # The 'username' variable is captured from the URL\n",
        "    return f'User: {username}'\n",
        "\n",
        "# Define a route with an integer parameter using a converter\n",
        "@app.route('/post/<int:post_id>')\n",
        "def show_post(post_id):\n",
        "    # The 'post_id' variable is captured from the URL and converted to an integer\n",
        "    return f'Post ID: {post_id}'\n",
        "\n",
        "# Define a route with a path parameter (allows slashes)\n",
        "@app.route('/path/<path:subpath>')\n",
        "def show_subpath(subpath):\n",
        "    # The 'subpath' variable captures the rest of the path\n",
        "    return f'Subpath: {subpath}'\n",
        "\n",
        "if __name__ == '__main__':\n",
        "    app.run(debug=True)"
      ],
      "metadata": {
        "id": "oKtI6wPte1V5"
      },
      "execution_count": null,
      "outputs": []
    },
    {
      "cell_type": "code",
      "source": [],
      "metadata": {
        "id": "JKs_r5YPfRls"
      },
      "execution_count": null,
      "outputs": []
    },
    {
      "cell_type": "code",
      "source": [],
      "metadata": {
        "id": "tfmEw8a81Ayy"
      },
      "execution_count": null,
      "outputs": []
    }
  ]
}